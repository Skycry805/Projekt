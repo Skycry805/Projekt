{
 "cells": [
  {
   "cell_type": "code",
   "execution_count": 1,
   "metadata": {},
   "outputs": [
    {
     "name": "stderr",
     "output_type": "stream",
     "text": [
      "c:\\Users\\nikla\\AppData\\Local\\Programs\\Python\\Python39\\lib\\site-packages\\tqdm\\auto.py:21: TqdmWarning: IProgress not found. Please update jupyter and ipywidgets. See https://ipywidgets.readthedocs.io/en/stable/user_install.html\n",
      "  from .autonotebook import tqdm as notebook_tqdm\n"
     ]
    }
   ],
   "source": [
    "from transformers import MarianMTModel, MarianTokenizer\n",
    "import torch\n",
    "from sklearn.feature_extraction.text import TfidfVectorizer\n",
    "from sklearn.metrics.pairwise import cosine_similarity\n",
    "from nltk import sent_tokenize, word_tokenize, stem\n",
    "from transformers import BertTokenizer, BertModel\n",
    "from scipy.spatial.distance import cosine\n",
    "import matplotlib.pyplot as plt\n",
    "from matplotlib_venn import venn2\n",
    "import dictdiffer\n",
    "from colorama import *"
   ]
  },
  {
   "cell_type": "markdown",
   "metadata": {},
   "source": [
    "In diesem Notebook geht es darum ein vortrainiertes Model einen bekannten Text übersetzen zu lassen und diesen mit einer menschlichen Übersetzung zu vergleichen.\n",
    "\n",
    "Zunächst wird das Model und der entsprechende Tokenaizer importiert. "
   ]
  },
  {
   "cell_type": "code",
   "execution_count": 2,
   "metadata": {},
   "outputs": [
    {
     "data": {
      "text/plain": [
       "MarianMTModel(\n",
       "  (model): MarianModel(\n",
       "    (shared): Embedding(58101, 512, padding_idx=58100)\n",
       "    (encoder): MarianEncoder(\n",
       "      (embed_tokens): Embedding(58101, 512, padding_idx=58100)\n",
       "      (embed_positions): MarianSinusoidalPositionalEmbedding(512, 512)\n",
       "      (layers): ModuleList(\n",
       "        (0-5): 6 x MarianEncoderLayer(\n",
       "          (self_attn): MarianAttention(\n",
       "            (k_proj): Linear(in_features=512, out_features=512, bias=True)\n",
       "            (v_proj): Linear(in_features=512, out_features=512, bias=True)\n",
       "            (q_proj): Linear(in_features=512, out_features=512, bias=True)\n",
       "            (out_proj): Linear(in_features=512, out_features=512, bias=True)\n",
       "          )\n",
       "          (self_attn_layer_norm): LayerNorm((512,), eps=1e-05, elementwise_affine=True)\n",
       "          (activation_fn): SiLU()\n",
       "          (fc1): Linear(in_features=512, out_features=2048, bias=True)\n",
       "          (fc2): Linear(in_features=2048, out_features=512, bias=True)\n",
       "          (final_layer_norm): LayerNorm((512,), eps=1e-05, elementwise_affine=True)\n",
       "        )\n",
       "      )\n",
       "    )\n",
       "    (decoder): MarianDecoder(\n",
       "      (embed_tokens): Embedding(58101, 512, padding_idx=58100)\n",
       "      (embed_positions): MarianSinusoidalPositionalEmbedding(512, 512)\n",
       "      (layers): ModuleList(\n",
       "        (0-5): 6 x MarianDecoderLayer(\n",
       "          (self_attn): MarianAttention(\n",
       "            (k_proj): Linear(in_features=512, out_features=512, bias=True)\n",
       "            (v_proj): Linear(in_features=512, out_features=512, bias=True)\n",
       "            (q_proj): Linear(in_features=512, out_features=512, bias=True)\n",
       "            (out_proj): Linear(in_features=512, out_features=512, bias=True)\n",
       "          )\n",
       "          (activation_fn): SiLU()\n",
       "          (self_attn_layer_norm): LayerNorm((512,), eps=1e-05, elementwise_affine=True)\n",
       "          (encoder_attn): MarianAttention(\n",
       "            (k_proj): Linear(in_features=512, out_features=512, bias=True)\n",
       "            (v_proj): Linear(in_features=512, out_features=512, bias=True)\n",
       "            (q_proj): Linear(in_features=512, out_features=512, bias=True)\n",
       "            (out_proj): Linear(in_features=512, out_features=512, bias=True)\n",
       "          )\n",
       "          (encoder_attn_layer_norm): LayerNorm((512,), eps=1e-05, elementwise_affine=True)\n",
       "          (fc1): Linear(in_features=512, out_features=2048, bias=True)\n",
       "          (fc2): Linear(in_features=2048, out_features=512, bias=True)\n",
       "          (final_layer_norm): LayerNorm((512,), eps=1e-05, elementwise_affine=True)\n",
       "        )\n",
       "      )\n",
       "    )\n",
       "  )\n",
       "  (lm_head): Linear(in_features=512, out_features=58101, bias=False)\n",
       ")"
      ]
     },
     "execution_count": 2,
     "metadata": {},
     "output_type": "execute_result"
    }
   ],
   "source": [
    "model_name = \"Helsinki-NLP/opus-mt-de-en\"\n",
    "tokenizer = MarianTokenizer.from_pretrained(model_name)\n",
    "model = MarianMTModel.from_pretrained(model_name)\n",
    "\n",
    "device = \"cuda\" if torch.cuda.is_available() else \"cpu\" #Verschieben der Daten auf die GPU\n",
    "model.to(device)"
   ]
  },
  {
   "cell_type": "markdown",
   "metadata": {},
   "source": [
    "Laden des Textes der übersetzt werden soll. In diesem Fall die erste Seite von \"Die Verwandlung\" von Franz Kafka."
   ]
  },
  {
   "cell_type": "code",
   "execution_count": 3,
   "metadata": {},
   "outputs": [
    {
     "name": "stdout",
     "output_type": "stream",
     "text": [
      "Als Gregor Samsa eines Morgens aus unruhigen Träumen erwachte, fand er sich in seinem Bett zu einem ungeheueren Ungeziefer verwandelt. Er lag auf seinem panzerartig harten Rücken und sah, wenn er den Kopf ein wenig hob, seinen gewölbten, braunen, von bogenförmigen Versteifungen geteilten Bauch, auf dessen Höhe sich die Bettdecke, zum gänzlichen Niedergleiten bereit, kaum noch erhalten konnte. Seine vielen, im Vergleich zu seinem sonstigen Umfang kläglich dünnen Beine flimmerten ihm hilflos vor den Augen.\n",
      "»Was ist mit mir geschehen?« dachte er. Es war kein Traum. Sein Zimmer, ein richtiges, nur etwas zu kleines Menschenzimmer, lag ruhig zwischen den vier wohlbekannten Wänden. Über dem Tisch, auf dem eine auseinandergepackte Musterkollektion von Tuchwaren ausgebreitet war – Samsa war Reisender –, hing das Bild, das er vor kurzem aus einer illustrierten Zeitschrift ausgeschnitten und in einem hübschen, vergoldeten Rahmen untergebracht hatte. Es stellte eine Dame dar, die, mit einem Pelzhut und einer Pelzboa versehen, aufrecht dasaß und einen schweren Pelzmuff, in dem ihr ganzer Unterarm verschwunden war, dem Beschauer entgegenhob.\n",
      "Gregors Blick richtete sich dann zum Fenster, und das trübe Wetter – man hörte Regentropfen auf das Fensterblech aufschlagen – machte ihn ganz melancholisch. »Wie wäre es, wenn ich noch ein wenig weiterschliefe und alle Narrheiten vergäße,« dachte er, aber das war gänzlich undurchführbar, denn er war gewöhnt, auf der rechten Seite zu schlafen, konnte sich aber in seinem gegenwärtigen Zustand nicht in diese Lage bringen. Mit welcher Kraft er sich auch auf die rechte Seite warf, immer wieder schaukelte er in die Rückenlage zurück. Er versuchte es wohl hundertmal, schloß die Augen, um die zappelnden Beine nicht sehen zu müssen, und ließ erst ab, als er in der Seite einen noch nie gefühlten, leichten, dumpfen Schmerz zu fühlen begann.\n",
      "»Ach Gott,« dachte er, »was für einen anstrengenden Beruf habe ich gewählt! Tag aus, Tag ein auf der Reise. Die geschäftlichen Aufregungen sind viel größer, als im eigentlichen Geschäft zu Hause, und außerdem ist mir noch diese Plage des Reisens auferlegt, die Sorgen um die Zuganschlüsse, das unregelmäßige, schlechte Essen, ein immer wechselnder, nie andauernder, nie herzlich werdender menschlicher Verkehr. Der Teufel soll das alles holen!« Er fühlte ein leichtes Jucken oben auf dem Bauch; schob sich auf dem Rücken langsam näher zum Bettpfosten, um den Kopf besser heben zu können; fand die juckende Stelle, die mit lauter kleinen weißen Pünktchen besetzt war, die er nicht zu beurteilen verstand; und wollte mit einem Bein die Stelle betasten, zog es aber gleich zurück, denn bei der Berührung umwehten ihn Kälteschauer.\n",
      "\n"
     ]
    }
   ],
   "source": [
    "with open(\"Kafka.txt\", \"r\", encoding=\"utf-8\") as file: \n",
    "    ger_Kafka = file.read()\n",
    "\n",
    "print(ger_Kafka)"
   ]
  },
  {
   "cell_type": "markdown",
   "metadata": {},
   "source": [
    "Text wird in Sätze aufgeteilt. "
   ]
  },
  {
   "cell_type": "code",
   "execution_count": 4,
   "metadata": {},
   "outputs": [
    {
     "name": "stdout",
     "output_type": "stream",
     "text": [
      "Anzahl der Sätze: 16\n",
      "['Als Gregor Samsa eines Morgens aus unruhigen Träumen erwachte, fand er sich in seinem Bett zu einem ungeheueren Ungeziefer verwandelt.', 'Er lag auf seinem panzerartig harten Rücken und sah, wenn er den Kopf ein wenig hob, seinen gewölbten, braunen, von bogenförmigen Versteifungen geteilten Bauch, auf dessen Höhe sich die Bettdecke, zum gänzlichen Niedergleiten bereit, kaum noch erhalten konnte.', 'Seine vielen, im Vergleich zu seinem sonstigen Umfang kläglich dünnen Beine flimmerten ihm hilflos vor den Augen.', '»Was ist mit mir geschehen?« dachte er.', 'Es war kein Traum.', 'Sein Zimmer, ein richtiges, nur etwas zu kleines Menschenzimmer, lag ruhig zwischen den vier wohlbekannten Wänden.', 'Über dem Tisch, auf dem eine auseinandergepackte Musterkollektion von Tuchwaren ausgebreitet war – Samsa war Reisender –, hing das Bild, das er vor kurzem aus einer illustrierten Zeitschrift ausgeschnitten und in einem hübschen, vergoldeten Rahmen untergebracht hatte.', 'Es stellte eine Dame dar, die, mit einem Pelzhut und einer Pelzboa versehen, aufrecht dasaß und einen schweren Pelzmuff, in dem ihr ganzer Unterarm verschwunden war, dem Beschauer entgegenhob.', 'Gregors Blick richtete sich dann zum Fenster, und das trübe Wetter – man hörte Regentropfen auf das Fensterblech aufschlagen – machte ihn ganz melancholisch.', '»Wie wäre es, wenn ich noch ein wenig weiterschliefe und alle Narrheiten vergäße,« dachte er, aber das war gänzlich undurchführbar, denn er war gewöhnt, auf der rechten Seite zu schlafen, konnte sich aber in seinem gegenwärtigen Zustand nicht in diese Lage bringen.', 'Mit welcher Kraft er sich auch auf die rechte Seite warf, immer wieder schaukelte er in die Rückenlage zurück.', 'Er versuchte es wohl hundertmal, schloß die Augen, um die zappelnden Beine nicht sehen zu müssen, und ließ erst ab, als er in der Seite einen noch nie gefühlten, leichten, dumpfen Schmerz zu fühlen begann.', '»Ach Gott,« dachte er, »was für einen anstrengenden Beruf habe ich gewählt!', 'Tag aus, Tag ein auf der Reise.', 'Die geschäftlichen Aufregungen sind viel größer, als im eigentlichen Geschäft zu Hause, und außerdem ist mir noch diese Plage des Reisens auferlegt, die Sorgen um die Zuganschlüsse, das unregelmäßige, schlechte Essen, ein immer wechselnder, nie andauernder, nie herzlich werdender menschlicher Verkehr.', 'Der Teufel soll das alles holen!« Er fühlte ein leichtes Jucken oben auf dem Bauch; schob sich auf dem Rücken langsam näher zum Bettpfosten, um den Kopf besser heben zu können; fand die juckende Stelle, die mit lauter kleinen weißen Pünktchen besetzt war, die er nicht zu beurteilen verstand; und wollte mit einem Bein die Stelle betasten, zog es aber gleich zurück, denn bei der Berührung umwehten ihn Kälteschauer.']\n"
     ]
    }
   ],
   "source": [
    "sentences = sent_tokenize(ger_Kafka, language=\"german\")\n",
    "\n",
    "print(f\"Anzahl der Sätze: {len(sentences)}\")\n",
    "print(sentences)"
   ]
  },
  {
   "cell_type": "markdown",
   "metadata": {},
   "source": [
    "Die einzelnen Sätze werden einzeln tokeniziert und das Model erzeugt eine Übersetzung."
   ]
  },
  {
   "cell_type": "code",
   "execution_count": 5,
   "metadata": {},
   "outputs": [
    {
     "name": "stdout",
     "output_type": "stream",
     "text": [
      "One morning, when Gregor Samsa awoke from troubled dreams, he found himself transformed into an enormous vermin in his bed.\n",
      "He lay on his armor-like hard back and saw, when he lifted his head a little, his arched brown belly, divided by arch-shaped stiffenings, on the height of which the duvet, ready for complete gliding down, could hardly get any more.\n",
      "His many legs shimmered helplessly in front of his eyes compared to his other circumference.\n",
      "'What happened to me?' he thought.\n",
      "It wasn't a dream.\n",
      "His room, a real, just a little too small human room, lay quietly between the four well-known walls.\n",
      "Above the table, on which a packed sample collection of cloth articles was spread – Samsa was a traveller – hung the picture that he had recently cut out from an illustrated magazine and placed in a pretty gilded frame.\n",
      "It represented a lady who, with a fur hat and a fur boa, sat upright and raised a heavy fur muff, in which her whole forearm had disappeared, to the spectator.\n",
      "Gregor's gaze then turned towards the window, and the cloudy weather – raindrops were heard on the window sheet – made him very melancholic.\n",
      "'How would it be if I slept a little longer and forgot all the folly,' he thought, but that was completely impractical, because he was used to sleeping on the right, but could not get himself into this situation in his present state.\n",
      "With whatever force he threw himself to the right side, he rocked back into the back position again and again.\n",
      "He probably tried it a hundred times, closed his eyes so that he didn't have to see the jagged legs, and did not let go until he began to feel an unprecedented, light, dull pain in the side.\n",
      "\"Oh, God,\" he thought, \"what a strenuous profession I chose!\n",
      "Day out, day one on the trip.\n",
      "The business excitement is much greater than in the actual business at home, and besides, I still have this plague of traveling, the worries about the train connections, the irregular, bad food, an ever-changing, never-ending, never-to-be-heart human traffic.\n",
      "He felt a slight itching on the top of his belly; he slowly pushed his back closer to the bedpost to raise his head better; he found the itchy spot, which was filled with small white dots, which he could not judge; and he wanted to touch the spot with one leg, but withdrew it immediately, for at the touch cold showers blew around him.\n"
     ]
    }
   ],
   "source": [
    "translated_sentences = []\n",
    "\n",
    "for sentence in sentences:\n",
    "    # Text vorbereiten und übersetzen\n",
    "    inputs = tokenizer(sentence, return_tensors=\"pt\", truncation=True, padding=True)\n",
    "    inputs = inputs.to(device)\n",
    "    translated = model.generate(**inputs) # **wird zum entpacken benötigt\n",
    "    translation = tokenizer.decode(translated[0], skip_special_tokens=True)\n",
    "    translated_sentences.append(translation)\n",
    "\n",
    "\n",
    "translated_text = \"\\n\".join(translated_sentences) # Übersetzung wird in zusammenhängenden String convertiert. \n",
    "print(translated_text)"
   ]
  },
  {
   "cell_type": "markdown",
   "metadata": {},
   "source": [
    "Die menschliche Übersetzung wird eingelesen."
   ]
  },
  {
   "cell_type": "code",
   "execution_count": 6,
   "metadata": {},
   "outputs": [
    {
     "name": "stdout",
     "output_type": "stream",
     "text": [
      "['One morning, when Gregor Samsa woke from troubled dreams, he found himself transformed in his bed into a horrible vermin.', 'He lay on his armour-like back, and if he lifted his head a little he could see his brown belly, slightly domed and divided by arches into stiff sections.', 'The bedding was hardly able to cover it and seemed ready to slide off any moment.', 'His many legs, pitifully thin compared with the size of the rest of him, waved about helplessly as he looked.', '“What’s happened to me?” he thought.', 'It wasn’t a dream.', 'His room, a proper human room although a little too small, lay peacefully between its four familiar walls.', 'A collection of textile samples lay spread out on the table—Samsa was a travelling salesman—and above it there hung a picture that he had recently cut out of an illustrated magazine and housed in a nice, gilded frame.', 'It showed a lady fitted out with a fur hat and fur boa who sat upright, raising a heavy fur muff that covered the whole of her lower arm towards the viewer.', 'Gregor then turned to look out the window at the dull weather.', 'Drops of rain could be heard hitting the pane, which made him feel quite sad.', '“How about if I sleep a little bit longer and forget all this nonsense”, he thought, but that was something he was unable to do because he was used to sleeping on his right, and in his present state couldn’t get into that position.', 'However hard he threw himself onto his right, he always rolled back to where he was.', 'He must have tried it a hundred times, shut his eyes so that he wouldn’t have to look at the floundering legs, and only stopped when he began to feel a mild, dull pain there that he had never felt before.', '“Oh, God”, he thought, “what a strenuous career it is that I’ve chosen!', 'Travelling day in and day out.', 'Doing business like this takes much more effort than doing your own business at home, and on top of that there’s the curse of travelling, worries about making train connections, bad and irregular food, contact with different people all the time so that you can never get to know anyone or become friendly with them.', 'It can all go to Hell!” He felt a slight itch up on his belly; pushed himself slowly up on his back towards the headboard so that he could lift his head better; found where the itch was, and saw that it was covered with lots of little white spots which he didn’t know what to make of; and when he tried to feel the place with one of his legs he drew it quickly back because as soon as he touched it he was overcome by a cold shudder.']\n",
      "['One morning, when Gregor Samsa awoke from troubled dreams, he found himself transformed into an enormous vermin in his bed.', 'He lay on his armor-like hard back and saw, when he lifted his head a little, his arched brown belly, divided by arch-shaped stiffenings, on the height of which the duvet, ready for complete gliding down, could hardly get any more.', 'His many legs shimmered helplessly in front of his eyes compared to his other circumference.', \"'What happened to me?' he thought.\", \"It wasn't a dream.\", 'His room, a real, just a little too small human room, lay quietly between the four well-known walls.', 'Above the table, on which a packed sample collection of cloth articles was spread – Samsa was a traveller – hung the picture that he had recently cut out from an illustrated magazine and placed in a pretty gilded frame.', 'It represented a lady who, with a fur hat and a fur boa, sat upright and raised a heavy fur muff, in which her whole forearm had disappeared, to the spectator.', \"Gregor's gaze then turned towards the window, and the cloudy weather – raindrops were heard on the window sheet – made him very melancholic.\", \"'How would it be if I slept a little longer and forgot all the folly,' he thought, but that was completely impractical, because he was used to sleeping on the right, but could not get himself into this situation in his present state.\", 'With whatever force he threw himself to the right side, he rocked back into the back position again and again.', \"He probably tried it a hundred times, closed his eyes so that he didn't have to see the jagged legs, and did not let go until he began to feel an unprecedented, light, dull pain in the side.\", '\"Oh, God,\" he thought, \"what a strenuous profession I chose!', 'Day out, day one on the trip.', 'The business excitement is much greater than in the actual business at home, and besides, I still have this plague of traveling, the worries about the train connections, the irregular, bad food, an ever-changing, never-ending, never-to-be-heart human traffic.', 'He felt a slight itching on the top of his belly; he slowly pushed his back closer to the bedpost to raise his head better; he found the itchy spot, which was filled with small white dots, which he could not judge; and he wanted to touch the spot with one leg, but withdrew it immediately, for at the touch cold showers blew around him.']\n"
     ]
    }
   ],
   "source": [
    "with open(\"Kafka_eng.txt\", \"r\", encoding=\"utf-8\") as file: # r steht für read\n",
    "    eng_Kafka = file.read()\n",
    "\n",
    "#print(eng_Kafka)\n",
    "eng_Kafka_sentences = sent_tokenize(eng_Kafka, language=\"english\")\n",
    "print(eng_Kafka_sentences)\n",
    "print(translated_sentences)\n",
    "\n"
   ]
  },
  {
   "cell_type": "markdown",
   "metadata": {},
   "source": [
    "Vergleich der Texte"
   ]
  },
  {
   "cell_type": "markdown",
   "metadata": {},
   "source": [
    "Erste Vergleichsmethode ist die Cosinus Ähnlichkeit.\n",
    "Dabei werden die beiden Texte in Vektoren umgewandelt und miteinander verglichen. \n",
    "Dies testet nur die Quanitative Ähnlichkeit der Texte.\n"
   ]
  },
  {
   "cell_type": "code",
   "execution_count": 7,
   "metadata": {},
   "outputs": [
    {
     "name": "stdout",
     "output_type": "stream",
     "text": [
      "Cosinus-Ähnlichkeit: 0.80\n"
     ]
    }
   ],
   "source": [
    "vectorizer = TfidfVectorizer()\n",
    "matrix = vectorizer.fit_transform([translated_text, eng_Kafka])\n",
    "cosine_sim = cosine_similarity(matrix[0:1], matrix[1:2])\n",
    "print(f\"Cosinus-Ähnlichkeit: {cosine_sim[0][0]:.2f}\")"
   ]
  },
  {
   "cell_type": "markdown",
   "metadata": {},
   "source": [
    "Ein Wert von 0.8 spricht für eine hohe Ähnlichkeit der Texte. "
   ]
  },
  {
   "cell_type": "markdown",
   "metadata": {},
   "source": [
    "Für die Bewertung semantische Bewertung wird ein vortrainiertes Bert Model genutzt. \n",
    "\n",
    "Das Model vergleicht den menschlich übersetzen Text mit dem maschinell übersetzen Text. "
   ]
  },
  {
   "cell_type": "code",
   "execution_count": 8,
   "metadata": {},
   "outputs": [
    {
     "name": "stdout",
     "output_type": "stream",
     "text": [
      "Semantische Ähnlichkeit: 0.97\n"
     ]
    }
   ],
   "source": [
    "tokenizer = BertTokenizer.from_pretrained('bert-base-uncased')\n",
    "model = BertModel.from_pretrained('bert-base-uncased')\n",
    "\n",
    "# Tokenizieren der Texte \n",
    "def encode(text):\n",
    "    inputs = tokenizer(text, return_tensors=\"pt\", padding=True, truncation=True, max_length=512)\n",
    "    with torch.no_grad():\n",
    "        outputs = model(**inputs)\n",
    "    return outputs.last_hidden_state.mean(dim=1).squeeze()\n",
    "\n",
    "# Embeddings bestimmen\n",
    "embedding_trans_text = encode(translated_text)\n",
    "embedding_eng = encode(eng_Kafka)\n",
    "# Bestimmt den Winkel zwischen Embedidngs \n",
    "# Da Distanz bestimmt werden soll muss von 1 subtrahiert werden\n",
    "similarity = 1 - cosine(embedding_trans_text.numpy(), embedding_eng.numpy()) \n",
    "\n",
    "print(f\"Semantische Ähnlichkeit: {similarity:.2f}\")"
   ]
  },
  {
   "cell_type": "markdown",
   "metadata": {},
   "source": [
    "Auch Bert bestimmt die Cosinus Ähnlichkeit. In diesem Fall von den beiden Embeddings der beiden Texte.\n",
    "\n",
    "Mit 0.97 ist der Wert nochmal deutlich besser als nur von der Cosinuns Ähnlichkeit. \n"
   ]
  },
  {
   "cell_type": "markdown",
   "metadata": {},
   "source": [
    "Im nächsten Schritt wird die Jaccard Ähnlichkeit bestimmt.\n",
    "Dabei wird die Anzahl der Wörter die in beiden Texten vorkommen, durch die Anzahl der Wörter die nur in einem der Texte geteilt."
   ]
  },
  {
   "cell_type": "code",
   "execution_count": 9,
   "metadata": {},
   "outputs": [
    {
     "name": "stdout",
     "output_type": "stream",
     "text": [
      "Jaccard Ähnlichkeit: 0.40789473684210525\n"
     ]
    }
   ],
   "source": [
    "human_tokens = word_tokenize(eng_Kafka)\n",
    "machine_tokens = word_tokenize(translated_text)\n",
    "\n",
    "inters_len = len(set(human_tokens).intersection(set(machine_tokens)))\n",
    "union_len = len(set(human_tokens).union(set(machine_tokens)))\n",
    "jaccard_sim = inters_len / union_len\n",
    "    \n",
    "print(\"Jaccard Ähnlichkeit:\",jaccard_sim)"
   ]
  },
  {
   "cell_type": "markdown",
   "metadata": {},
   "source": [
    "Als nächsten wird bestimmt welche Wörter genau die beiden Übersetzungen gemeinsam haben und welche nur ein einer der beiden Übersetzungen vorkommen. "
   ]
  },
  {
   "cell_type": "code",
   "execution_count": 10,
   "metadata": {},
   "outputs": [
    {
     "name": "stdout",
     "output_type": "stream",
     "text": [
      "Gemeinsame Wörter: {',', 'into', 'frame', 'threw', 'all', 'head', 'Samsa', 'could', 'because', 'that', 'worries', 'times', 'boa', 'dreams', 'small', 'transformed', 'back', 'walls', 'weather', 'made', 'so', 'dream', 'Gregor', 'by', 'upright', 'One', 'muff', 'morning', 'divided', 'Oh', 'belly', 'picture', 'strenuous', 'slight', 'one', 'feel', 'when', 'was', 'top', 'the', 'too', 'whole', 'present', 'which', 'hundred', 'lay', 'of', 'heavy', 'helplessly', 'turned', 'human', 'towards', 'his', 'His', 'irregular', 'hung', 'but', 'It', 'ready', 'any', 'be', 'he', 'in', 'more', 'pushed', 'little', 'go', 'bad', 'between', 'hat', 'troubled', 'recently', 'have', '?', 'lady', '!', 'from', 'at', 'brown', 'himself', 'He', 'business', 'food', 'The', 'lifted', 'get', 'many', 'hard', 'what', 'vermin', 'window', 'fur', 'I', 'hardly', 'who', 'than', 'illustrated', 'cold', 'bed', 'spread', 'a', 'four', 'state', 'connections', 'had', 'me', 'God', 'much', 'and', 'collection', 'this', 'eyes', 'sleeping', 'to', 'home', 'used', 'longer', 'him', 'her', 'cut', 'position', 'legs', 'found', 'it', 'is', 'day', 'room', 'white', 'right', 'began', 'slowly', 'compared', 'pain', 'sat', 'out', 'better', 'see', 'on', 'about', 'thought', 'heard', 'saw', 'gilded', 'tried', '.', 'happened', 'dull', 'with', ';', 'train', 'magazine', 'then', 'felt', 'if', 'an'}\n",
      "Nur in maschineller Übersetzung: {'excitement', 'traveling', 'rocked', 'profession', 'table', 'other', 'closed', 'jagged', 'never-to-be-heart', 'cloudy', 'just', 'disappeared', 'Day', 'gaze', 'greater', 'probably', 'front', 'With', 'quietly', 'gliding', 'not', 'sample', 'would', 'whatever', 'circumference', \"''\", 'slept', 'itching', 'completely', 'actual', 'trip', 'raise', 'besides', 'raised', 'blew', 'placed', 'Above', 'let', 'filled', 'leg', 'light', 'withdrew', 'plague', 'packed', 'bedpost', 'until', 'did', 'showers', 'traveller', 'spot', \"'How\", 'cloth', 'traffic', 'articles', 'wanted', 'ever-changing', 'melancholic', 'forgot', '–', 'sheet', 'were', 'again', 'duvet', 'pretty', 'spectator', 'real', 'enormous', \"'s\", 'never-ending', 'down', 'situation', 'for', 'well-known', 'still', 'chose', 'awoke', \"'What\", 'represented', \"'\", 'itchy', 'forearm', 'closer', 'folly', 'armor-like', 'force', 'impractical', 'touch', 'dots', 'raindrops', 'arched', 'height', \"n't\", 'unprecedented', 'arch-shaped', 'immediately', 'judge', 'stiffenings', 'shimmered', '``', 'around', 'very', 'complete', 'side'}\n",
      "Nur in menschlicher Übersetzung: {'covered', 'rolled', 'arm', 'although', 'people', 'itch', 'stopped', 'showed', 'nonsense', 'quickly', 'How', 'domed', 'slide', 'overcome', 'different', 'soon', 'touched', 'size', '“', 'Doing', 'armour-like', 'doing', 'contact', 'own', 'slightly', 'anyone', 't', 'Travelling', 'your', 'up', 'bedding', 'lift', 'mild', 'sections', 'What', 'something', 'lots', 'or', 'waved', 'only', 'didn', 'takes', 'Hell', 'its', 'seemed', 'pane', 'viewer', 'forget', 'making', 'hitting', 'look', 'spots', 'unable', 'off', 've', 'table—Samsa', 'chosen', 'moment', 'curse', 'housed', 'quite', 'able', 'samples', 'pitifully', 'wasn', 'friendly', 'you', 'arches', 'horrible', 'where', 'floundering', 'as', 'time', '’', 'textile', 'know', 'couldn', 'rain', 'before', 'can', 'However', 'sleep', 'like', 'career', 'proper', 'shudder', 'fitted', 'effort', 'onto', 'nice', 'never', 'drew', 's', 'stiff', 'place', 'sad', 'must', 'A', 'cover', 'above', 'bit', 'familiar', 'woke', 'there', 'travelling', 'raising', 'Drops', 'salesman—and', '”', 'wouldn', 'looked', 'rest', 'lower', 'shut', 'become', 'do', 'headboard', 'thin', 'make', 'them', 'always', 'peacefully'}\n"
     ]
    }
   ],
   "source": [
    "# Texte in Wörter zerlegen\n",
    "human_tokens = word_tokenize(eng_Kafka)\n",
    "machine_tokens = word_tokenize(translated_text)\n",
    "\n",
    "# Gemeinsame und unterschiedliche Wörter\n",
    "common_tokens = set(machine_tokens).intersection(human_tokens)\n",
    "unique_to_machine = set(machine_tokens) - common_tokens\n",
    "unique_to_human = set(human_tokens) - common_tokens\n",
    "\n",
    "print(\"Gemeinsame Wörter:\", common_tokens)\n",
    "print(\"Nur in maschineller Übersetzung:\", unique_to_machine)\n",
    "print(\"Nur in menschlicher Übersetzung:\", unique_to_human)"
   ]
  },
  {
   "cell_type": "markdown",
   "metadata": {},
   "source": [
    "Grafische Darstellung der Mengen"
   ]
  },
  {
   "cell_type": "code",
   "execution_count": 11,
   "metadata": {},
   "outputs": [
    {
     "data": {
      "image/png": "[encoded data removed]",
      "text/plain": [
       "<Figure size 640x480 with 1 Axes>"
      ]
     },
     "metadata": {},
     "output_type": "display_data"
    }
   ],
   "source": [
    "# Wortmengen bestimmen\n",
    "common_tokens = set(machine_tokens).intersection(human_tokens)\n",
    "unique_to_machine = set(machine_tokens) - common_tokens\n",
    "unique_to_human = set(human_tokens) - common_tokens\n",
    "\n",
    "# Venn-Diagramm erstellen\n",
    "venn2(\n",
    "    subsets=(len(unique_to_machine), len(unique_to_human), len(common_tokens)),\n",
    "    set_labels=('Maschinelle Übersetzung', 'Menschliche Übersetzung')\n",
    ")\n",
    "\n",
    "plt.title(\"Vergleich der maschinellen und menschlichen Übersetzung\")\n",
    "plt.show()"
   ]
  },
  {
   "cell_type": "markdown",
   "metadata": {},
   "source": [
    "Visualisierter Vergleich anhand von Beispielen"
   ]
  },
  {
   "cell_type": "code",
   "execution_count": 12,
   "metadata": {},
   "outputs": [],
   "source": [
    "stemmer = stem.PorterStemmer()\n",
    "\n",
    "\n",
    "# Liste mit wörten und Anzahl\n",
    "def word_count(input: list) -> dict:\n",
    "    dict = {}\n",
    "    for word in input:\n",
    "        dict[word] = input.count(word)\n",
    "    return dict\n",
    "\n",
    "# Vergleicht den Text visuell (Rot: geändertes Wort, Gelb: Anzahl ungleich)\n",
    "def diff_text_count(input_a: str, input_b: str):\n",
    "    # Tokenisierung\n",
    "    a = word_tokenize(input_a)\n",
    "    b = word_tokenize(input_b)\n",
    "\n",
    "    # Word count\n",
    "    dict_count_a = word_count(a)\n",
    "    dict_count_b = word_count(b)\n",
    "\n",
    "    # Vergleiche zwei Dictionarys\n",
    "    diff = list(dictdiffer.diff(dict_count_a, dict_count_b))\n",
    "\n",
    "    # Zähle Änderungen\n",
    "    words_changed = []\n",
    "    words_added = []\n",
    "    words_removed = []\n",
    "\n",
    "    # Füge wörte in die Änderungslisten\n",
    "    for item in diff:\n",
    "        if item[0] == 'change':\n",
    "            words_changed.append(item[1])\n",
    "        if item[0] == 'add':\n",
    "            for add_item in item[2]:\n",
    "                words_added.append(add_item[0])\n",
    "        if item[0] == 'remove':\n",
    "            for remove_item in item[2]:\n",
    "                words_removed.append(remove_item[0])\n",
    "    \n",
    "    # Highlightling im Text\n",
    "    print(Fore.BLUE + \"A: \" + Fore.RESET, end='')\n",
    "    for word in a:\n",
    "        if word in words_removed:\n",
    "            print(Fore.RED + word + \" \" + Fore.RESET , end='')\n",
    "        elif word in words_changed:\n",
    "            print(Fore.YELLOW + word + \" \" + Fore.RESET, end='')\n",
    "        else:\n",
    "            print(word + \" \", end='')\n",
    "    print()\n",
    "    print(Fore.BLUE + \"B: \" + Fore.RESET, end='')\n",
    "    for word in b:\n",
    "        if word in words_added:\n",
    "            print(Fore.RED + word + \" \" + Fore.RESET , end='')\n",
    "        elif word in words_changed:\n",
    "            print(Fore.YELLOW + word + \" \" + Fore.RESET, end='')\n",
    "        else:\n",
    "            print(word + \" \", end='')\n",
    "    print()"
   ]
  },
  {
   "cell_type": "markdown",
   "metadata": {},
   "source": [
    "Zwei Beispiele, um die Unterschiede zu visualisieren. Rot sind Wörter, welche unterschiedlich sind. Gelb sind Wörter, bei denen die Anzahl unterschiedlich ist."
   ]
  },
  {
   "cell_type": "code",
   "execution_count": 13,
   "metadata": {},
   "outputs": [
    {
     "name": "stdout",
     "output_type": "stream",
     "text": [
      "\u001b[34mA: \u001b[39mOne morning , when Gregor Samsa \u001b[31mawoke \u001b[39mfrom troubled dreams , he found himself transformed into \u001b[31man \u001b[39m\u001b[31menormous \u001b[39mvermin in his bed . \n",
      "\u001b[34mB: \u001b[39mOne morning , when Gregor Samsa \u001b[31mwoke \u001b[39mfrom troubled dreams , he found himself transformed in his bed into \u001b[31ma \u001b[39m\u001b[31mhorrible \u001b[39mvermin . \n",
      "\n",
      "\u001b[34mA: \u001b[39mHe lay \u001b[33mon \u001b[39mhis \u001b[31marmor-like \u001b[39m\u001b[31mhard \u001b[39mback \u001b[33mand \u001b[39m\u001b[31msaw \u001b[39m\u001b[33m, \u001b[39m\u001b[31mwhen \u001b[39m\u001b[33mhe \u001b[39mlifted his head a little \u001b[33m, \u001b[39mhis \u001b[31marched \u001b[39mbrown belly \u001b[33m, \u001b[39mdivided by \u001b[31march-shaped \u001b[39m\u001b[31mstiffenings \u001b[39m\u001b[33m, \u001b[39m\u001b[33mon \u001b[39m\u001b[31mthe \u001b[39m\u001b[31mheight \u001b[39m\u001b[31mof \u001b[39m\u001b[31mwhich \u001b[39m\u001b[31mthe \u001b[39m\u001b[31mduvet \u001b[39m\u001b[33m, \u001b[39m\u001b[31mready \u001b[39m\u001b[31mfor \u001b[39m\u001b[31mcomplete \u001b[39m\u001b[31mgliding \u001b[39m\u001b[31mdown \u001b[39m\u001b[33m, \u001b[39mcould \u001b[31mhardly \u001b[39m\u001b[31mget \u001b[39m\u001b[31many \u001b[39m\u001b[31mmore \u001b[39m. \n",
      "\u001b[34mB: \u001b[39mHe lay \u001b[33mon \u001b[39mhis \u001b[31marmour-like \u001b[39mback \u001b[33m, \u001b[39m\u001b[33mand \u001b[39m\u001b[31mif \u001b[39m\u001b[33mhe \u001b[39mlifted his head a little \u001b[33mhe \u001b[39mcould \u001b[31msee \u001b[39mhis brown belly \u001b[33m, \u001b[39m\u001b[31mslightly \u001b[39m\u001b[31mdomed \u001b[39m\u001b[33mand \u001b[39mdivided by \u001b[31marches \u001b[39m\u001b[31minto \u001b[39m\u001b[31mstiff \u001b[39m\u001b[31msections \u001b[39m. \n",
      "\n"
     ]
    }
   ],
   "source": [
    "for maschine_sentence, human_sentence in zip(translated_sentences[:2], eng_Kafka_sentences[:2]):\n",
    "    diff_text_count(maschine_sentence, human_sentence)\n",
    "    print()\n",
    "    "
   ]
  }
 ],
 "metadata": {
  "kernelspec": {
   "display_name": "Python 3",
   "language": "python",
   "name": "python3"
  },
  "language_info": {
   "codemirror_mode": {
    "name": "ipython",
    "version": 3
   },
   "file_extension": ".py",
   "mimetype": "text/x-python",
   "name": "python",
   "nbconvert_exporter": "python",
   "pygments_lexer": "ipython3",
   "version": "3.9.4"
  }
 },
 "nbformat": 4,
 "nbformat_minor": 2
}
